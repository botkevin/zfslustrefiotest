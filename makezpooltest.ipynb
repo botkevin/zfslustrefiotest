{
 "cells": [
  {
   "cell_type": "code",
   "execution_count": 2,
   "source": [
    "import numpy as np\r\n",
    "import os\r\n",
    "import csv\r\n",
    "import runtests"
   ],
   "outputs": [],
   "metadata": {}
  },
  {
   "cell_type": "code",
   "execution_count": 3,
   "source": [
    "def return_one(startdisk, zfsname, csvfilename, ip, skip_num=0):\r\n",
    "    with open(csvfilename) as csvfile:\r\n",
    "        reader = csv.reader(csvfile, delimiter=\",\")\r\n",
    "        next(reader)\r\n",
    "        for _ in range(skip_num):\r\n",
    "            next(reader)\r\n",
    "        row = next(reader)\r\n",
    "        testname, numberdisks, raidmode, raid0, ashift, compression, recordsize, atime, filesize, benchmark, runtime, blocksizes, iodepths, numjobs = row\r\n",
    "        print (testname, numberdisks, raidmode, raid0, ashift, compression, recordsize, atime, filesize, benchmark, runtime, blocksizes, iodepths, numjobs)\r\n",
    "        print (\"++++++++++++++++++++++++++++\")\r\n",
    "        print (testname)\r\n",
    "        print (\"++++++++++++++++++++++++++++\")\r\n",
    "        numberdisks = int(numberdisks)\r\n",
    "        raidmode = int(raidmode)\r\n",
    "        raid0 = int(raid0)\r\n",
    "        return runtests.make_commands(startdisk, numberdisks, zfsname, raidmode, raid0, ashift, compression, recordsize, atime, testname, ip, filesize, benchmark, runtime, blocksizes, iodepths, numjobs)"
   ],
   "outputs": [],
   "metadata": {}
  },
  {
   "cell_type": "code",
   "execution_count": 4,
   "source": [
    "cmds = return_one(\"c\", \"tank\", \"config.csv\", \"192.168.169.207\", skip_num=8)"
   ],
   "outputs": [
    {
     "output_type": "stream",
     "name": "stdout",
     "text": [
      "z2_three_8_single 24 6 3 12  32m off 1500g True 200 32m 64m 1 2 1 4\n",
      "++++++++++++++++++++++++++++\n",
      "z2_three_8_single\n",
      "++++++++++++++++++++++++++++\n"
     ]
    }
   ],
   "metadata": {}
  },
  {
   "cell_type": "code",
   "execution_count": 5,
   "source": [
    "for cmd in cmds:\r\n",
    "    print(cmd)"
   ],
   "outputs": [
    {
     "output_type": "stream",
     "name": "stdout",
     "text": [
      "mkdir z2_three_8_single\n",
      "echo -------------------------------\n",
      "echo make zfs\n",
      "echo -------------------------------\n",
      "zpool create tank -o ashift=12 raidz2 sdc sdd sde sdf sdg sdh sdi sdj raidz2 sdk sdl sdm sdn sdo sdp sdq sdr raidz2 sds sdt sdu sdv sdw sdx sdy sdz\n",
      "echo -------------------------------\n",
      "echo test zfs\n",
      "echo -------------------------------\n",
      "./bench_fio  --type directory --quiet -m write read --loops 1 --target /tank -o z2_three_8_single_zfs -b 32m 64m --iodepth 1 2 --numjobs 1 4 --size 1500g --runtime 200\n",
      "echo -------------------------------\n",
      "echo make lustre\n",
      "echo -------------------------------\n",
      "mkfs.lustre --backfstype=zfs --fsname=test --index=0 --reformat --mgs --mdt mgsmdt/mgsmdt\n",
      "mkfs.lustre --backfstype=zfs --fsname=test --index=0 --ost --mgsnode=192.168.169.207@tcp tank/ost0\n",
      "mount -t lustre mgsmdt/mgsmdt /mnt/mgsmdt\n",
      "mount -t lustre tank/ost0 /mnt/ost\n",
      "mount -t lustre 192.168.169.207@tcp:/test /mnt/lustre\n",
      "echo -------------------------------\n",
      "echo test lustre\n",
      "echo -------------------------------\n",
      "./bench_fio  --type directory --quiet -m write read --loops 1 --target /mnt/lustre -o z2_three_8_single_lustre -b 32m 64m --iodepth 1 2 --numjobs 1 4 --size 1500g --runtime 200\n",
      "echo -------------------------------\n",
      "echo cleanup\n",
      "echo -------------------------------\n",
      "umount -f 192.168.169.207@tcp:/test\n",
      "umount mgsmdt/mgsmdt\n",
      "umount tank/ost0\n",
      "tunefs.lustre --writeconf mgsmdt/mgsmdt\n",
      "tunefs.lustre --writeconf tank/ost0\n",
      "zpool destroy -f tank\n"
     ]
    }
   ],
   "metadata": {}
  },
  {
   "cell_type": "markdown",
   "source": [
    "# make sure the change device, name, rw\r\n",
    "\"fio --directory=\" \"--direct=1 --rw=write --bs=32m --ioengine=libaio --iodepth=64 --filesize=100g --runtime=120 --time_based --group_reporting --name=throughput-test --eta-newline=1\"\r\n",
    "\"fio --directory=\" \"--direct=1 --rw=read --bs=32m --ioengine=libaio --iodepth=64 --filesize=100g --runtime=120 --time_based --group_reporting --name=throughput-test --eta-newline=1 --readonly\""
   ],
   "metadata": {}
  },
  {
   "cell_type": "code",
   "execution_count": 6,
   "source": [
    "fio --directory=/tank --direct=1 --rw=write --bs=32m --ioengine=libaio --iodepth=64 --filesize=30g --numjobs=2 --group_reporting --name=throughput-test --eta-newline=1\r\n",
    "\r\n",
    "./bench_fio --target /tank --type directory -o onedisk_fioplot -b 16m 32m 64m -m write --loops 1 --iodepth 1 2 --numjobs 1 2 --ss iops:10% --ss-ramp 10 --ss-dur 30 --runtime 300 --size 20g\r\n",
    "\r\n",
    "./fio_plot/fio_plot -T \"title\" -r write -g -t bw -d 1 2 -n 1 2 -i benchmark_script/onedisk_fioplot/tank/32m/"
   ],
   "outputs": [
    {
     "output_type": "error",
     "ename": "SyntaxError",
     "evalue": "cannot assign to operator (Temp/ipykernel_8208/472463204.py, line 1)",
     "traceback": [
      "\u001b[1;36m  File \u001b[1;32m\"C:\\Users\\kevishi\\AppData\\Local\\Temp/ipykernel_8208/472463204.py\"\u001b[1;36m, line \u001b[1;32m1\u001b[0m\n\u001b[1;33m    fio --directory=/tank --direct=1 --rw=write --bs=32m --ioengine=libaio --iodepth=64 --filesize=30g --numjobs=2 --group_reporting --name=throughput-test --eta-newline=1\u001b[0m\n\u001b[1;37m    ^\u001b[0m\n\u001b[1;31mSyntaxError\u001b[0m\u001b[1;31m:\u001b[0m cannot assign to operator\n"
     ]
    }
   ],
   "metadata": {}
  },
  {
   "cell_type": "code",
   "execution_count": null,
   "source": [
    "./fio-plot/fio_plot/fio_plot -T \"bandwidth of write on lustre raidz2(8 drives) given iodepth and numjobs 32m\" -i z2_one_8_single_lustre/lustre/16m -g -r write -t bw -d 1 2 4 -n 1 4 8\r\n",
    "./fio-plot/fio_plot/fio_plot -T \"bandwidth of write on zfs 60 (2x8 drives) given iodepth and numjobs 64m\" -i z2_one_8_single_zfs/tank/64m -g -r write -t bw -d 1 2 4 -n 1 4 8\r\n",
    "./fio-plot/fio_plot/fio_plot -T \"bandwidth of read on zfs raidz2(8 drives) given iodepth and numjobs m\" -i z2_one_8_single_zfs/tank/16m -g -r read -t bw -d 1 2 4 -n 1 4 8\r\n"
   ],
   "outputs": [],
   "metadata": {}
  },
  {
   "cell_type": "code",
   "execution_count": 4,
   "source": [
    "import os\r\n",
    "import csv\r\n",
    "\r\n",
    "csvfilename = \"config.csv\"\r\n",
    "skip_num = 6\r\n",
    "\r\n",
    "def make_plot_cmd(rw, fs, bs, iodepths, numjobs, testname):\r\n",
    "    if fs == \"zfs\":\r\n",
    "        fsdir = '_lustre/lustre/'\r\n",
    "    else:\r\n",
    "        fsdir = '_zfs/tank/'\r\n",
    "    title = 'bandwidth of '+ rw +' on ' + fs + ' ' + testname + ' '+bs\r\n",
    "    cmd = './fio-plot/fio_plot/fio_plot -T \"' + title + '\" -i '+ testname + fsdir +bs+' -g -r '+rw+' -t bw -d '+ iodepths +' -n ' + numjobs + ' --disable-fio-version'\r\n",
    "    return cmd, title\r\n",
    "\r\n",
    "with open(csvfilename) as csvfile:\r\n",
    "        reader = csv.reader(csvfile, delimiter=\",\")\r\n",
    "        next(reader)\r\n",
    "        cmds = []\r\n",
    "        for _ in range(skip_num):\r\n",
    "            next(reader)\r\n",
    "        for row in reader:\r\n",
    "            testname, numberdisks, raidmode, raid0, ashift, compression, recordsize, atime, filesize, benchmark, runtime, blocksizes, iodepths, numjobs = row\r\n",
    "            rws = [\"read\", \"write\"]\r\n",
    "            fss = [\"zfs\", \"lustre\"]\r\n",
    "            blocksizes = blocksizes.split()\r\n",
    "            # print (blocksizes)\r\n",
    "            graphdir = \"graph_\" + testname\r\n",
    "            cmds.append (\"mkdir \" + graphdir)\r\n",
    "            for bs in blocksizes:\r\n",
    "                blockdir = graphdir +\"/\"+bs\r\n",
    "                cmds.append (\"mkdir \"+ blockdir)\r\n",
    "                for fs in fss:\r\n",
    "                    for rw in rws:\r\n",
    "                        plot_cmd, title = make_plot_cmd (rw, fs, bs, iodepths, numjobs, testname)\r\n",
    "                        title = title.replace(\" \", \"-\")\r\n",
    "                        cmds.append (plot_cmd)\r\n",
    "                        cmds.append (\"mv \" + title + '* ' + blockdir)\r\n",
    "                        # TODO: save plot to specific dir\r\n",
    "\r\n",
    "for cmd in cmds:\r\n",
    "    print (cmd)"
   ],
   "outputs": [
    {
     "output_type": "stream",
     "name": "stdout",
     "text": [
      "mkdir graph_z2_one_8_single\n",
      "mkdir graph_z2_one_8_single/16m\n",
      "./fio-plot/fio_plot/fio_plot -T \"bandwidth of read on zfs z2_one_8_single 16m\" -i z2_one_8_single_lustre/lustre/16m -g -r read -t bw -d 1 2 4 -n 1 4 8 --disable-fio-version\n",
      "mv bandwidth-of-read-on-zfs-z2_one_8_single-16m* graph_z2_one_8_single/16m\n",
      "./fio-plot/fio_plot/fio_plot -T \"bandwidth of write on zfs z2_one_8_single 16m\" -i z2_one_8_single_lustre/lustre/16m -g -r write -t bw -d 1 2 4 -n 1 4 8 --disable-fio-version\n",
      "mv bandwidth-of-write-on-zfs-z2_one_8_single-16m* graph_z2_one_8_single/16m\n",
      "./fio-plot/fio_plot/fio_plot -T \"bandwidth of read on lustre z2_one_8_single 16m\" -i z2_one_8_single_zfs/tank/16m -g -r read -t bw -d 1 2 4 -n 1 4 8 --disable-fio-version\n",
      "mv bandwidth-of-read-on-lustre-z2_one_8_single-16m* graph_z2_one_8_single/16m\n",
      "./fio-plot/fio_plot/fio_plot -T \"bandwidth of write on lustre z2_one_8_single 16m\" -i z2_one_8_single_zfs/tank/16m -g -r write -t bw -d 1 2 4 -n 1 4 8 --disable-fio-version\n",
      "mv bandwidth-of-write-on-lustre-z2_one_8_single-16m* graph_z2_one_8_single/16m\n",
      "mkdir graph_z2_one_8_single/32m\n",
      "./fio-plot/fio_plot/fio_plot -T \"bandwidth of read on zfs z2_one_8_single 32m\" -i z2_one_8_single_lustre/lustre/32m -g -r read -t bw -d 1 2 4 -n 1 4 8 --disable-fio-version\n",
      "mv bandwidth-of-read-on-zfs-z2_one_8_single-32m* graph_z2_one_8_single/32m\n",
      "./fio-plot/fio_plot/fio_plot -T \"bandwidth of write on zfs z2_one_8_single 32m\" -i z2_one_8_single_lustre/lustre/32m -g -r write -t bw -d 1 2 4 -n 1 4 8 --disable-fio-version\n",
      "mv bandwidth-of-write-on-zfs-z2_one_8_single-32m* graph_z2_one_8_single/32m\n",
      "./fio-plot/fio_plot/fio_plot -T \"bandwidth of read on lustre z2_one_8_single 32m\" -i z2_one_8_single_zfs/tank/32m -g -r read -t bw -d 1 2 4 -n 1 4 8 --disable-fio-version\n",
      "mv bandwidth-of-read-on-lustre-z2_one_8_single-32m* graph_z2_one_8_single/32m\n",
      "./fio-plot/fio_plot/fio_plot -T \"bandwidth of write on lustre z2_one_8_single 32m\" -i z2_one_8_single_zfs/tank/32m -g -r write -t bw -d 1 2 4 -n 1 4 8 --disable-fio-version\n",
      "mv bandwidth-of-write-on-lustre-z2_one_8_single-32m* graph_z2_one_8_single/32m\n",
      "mkdir graph_z2_one_8_single/64m\n",
      "./fio-plot/fio_plot/fio_plot -T \"bandwidth of read on zfs z2_one_8_single 64m\" -i z2_one_8_single_lustre/lustre/64m -g -r read -t bw -d 1 2 4 -n 1 4 8 --disable-fio-version\n",
      "mv bandwidth-of-read-on-zfs-z2_one_8_single-64m* graph_z2_one_8_single/64m\n",
      "./fio-plot/fio_plot/fio_plot -T \"bandwidth of write on zfs z2_one_8_single 64m\" -i z2_one_8_single_lustre/lustre/64m -g -r write -t bw -d 1 2 4 -n 1 4 8 --disable-fio-version\n",
      "mv bandwidth-of-write-on-zfs-z2_one_8_single-64m* graph_z2_one_8_single/64m\n",
      "./fio-plot/fio_plot/fio_plot -T \"bandwidth of read on lustre z2_one_8_single 64m\" -i z2_one_8_single_zfs/tank/64m -g -r read -t bw -d 1 2 4 -n 1 4 8 --disable-fio-version\n",
      "mv bandwidth-of-read-on-lustre-z2_one_8_single-64m* graph_z2_one_8_single/64m\n",
      "./fio-plot/fio_plot/fio_plot -T \"bandwidth of write on lustre z2_one_8_single 64m\" -i z2_one_8_single_zfs/tank/64m -g -r write -t bw -d 1 2 4 -n 1 4 8 --disable-fio-version\n",
      "mv bandwidth-of-write-on-lustre-z2_one_8_single-64m* graph_z2_one_8_single/64m\n",
      "mkdir graph_z2_two_8_single\n",
      "mkdir graph_z2_two_8_single/16m\n",
      "./fio-plot/fio_plot/fio_plot -T \"bandwidth of read on zfs z2_two_8_single 16m\" -i z2_two_8_single_lustre/lustre/16m -g -r read -t bw -d 1 2 4 -n 1 4 8 --disable-fio-version\n",
      "mv bandwidth-of-read-on-zfs-z2_two_8_single-16m* graph_z2_two_8_single/16m\n",
      "./fio-plot/fio_plot/fio_plot -T \"bandwidth of write on zfs z2_two_8_single 16m\" -i z2_two_8_single_lustre/lustre/16m -g -r write -t bw -d 1 2 4 -n 1 4 8 --disable-fio-version\n",
      "mv bandwidth-of-write-on-zfs-z2_two_8_single-16m* graph_z2_two_8_single/16m\n",
      "./fio-plot/fio_plot/fio_plot -T \"bandwidth of read on lustre z2_two_8_single 16m\" -i z2_two_8_single_zfs/tank/16m -g -r read -t bw -d 1 2 4 -n 1 4 8 --disable-fio-version\n",
      "mv bandwidth-of-read-on-lustre-z2_two_8_single-16m* graph_z2_two_8_single/16m\n",
      "./fio-plot/fio_plot/fio_plot -T \"bandwidth of write on lustre z2_two_8_single 16m\" -i z2_two_8_single_zfs/tank/16m -g -r write -t bw -d 1 2 4 -n 1 4 8 --disable-fio-version\n",
      "mv bandwidth-of-write-on-lustre-z2_two_8_single-16m* graph_z2_two_8_single/16m\n",
      "mkdir graph_z2_two_8_single/32m\n",
      "./fio-plot/fio_plot/fio_plot -T \"bandwidth of read on zfs z2_two_8_single 32m\" -i z2_two_8_single_lustre/lustre/32m -g -r read -t bw -d 1 2 4 -n 1 4 8 --disable-fio-version\n",
      "mv bandwidth-of-read-on-zfs-z2_two_8_single-32m* graph_z2_two_8_single/32m\n",
      "./fio-plot/fio_plot/fio_plot -T \"bandwidth of write on zfs z2_two_8_single 32m\" -i z2_two_8_single_lustre/lustre/32m -g -r write -t bw -d 1 2 4 -n 1 4 8 --disable-fio-version\n",
      "mv bandwidth-of-write-on-zfs-z2_two_8_single-32m* graph_z2_two_8_single/32m\n",
      "./fio-plot/fio_plot/fio_plot -T \"bandwidth of read on lustre z2_two_8_single 32m\" -i z2_two_8_single_zfs/tank/32m -g -r read -t bw -d 1 2 4 -n 1 4 8 --disable-fio-version\n",
      "mv bandwidth-of-read-on-lustre-z2_two_8_single-32m* graph_z2_two_8_single/32m\n",
      "./fio-plot/fio_plot/fio_plot -T \"bandwidth of write on lustre z2_two_8_single 32m\" -i z2_two_8_single_zfs/tank/32m -g -r write -t bw -d 1 2 4 -n 1 4 8 --disable-fio-version\n",
      "mv bandwidth-of-write-on-lustre-z2_two_8_single-32m* graph_z2_two_8_single/32m\n",
      "mkdir graph_z2_two_8_single/64m\n",
      "./fio-plot/fio_plot/fio_plot -T \"bandwidth of read on zfs z2_two_8_single 64m\" -i z2_two_8_single_lustre/lustre/64m -g -r read -t bw -d 1 2 4 -n 1 4 8 --disable-fio-version\n",
      "mv bandwidth-of-read-on-zfs-z2_two_8_single-64m* graph_z2_two_8_single/64m\n",
      "./fio-plot/fio_plot/fio_plot -T \"bandwidth of write on zfs z2_two_8_single 64m\" -i z2_two_8_single_lustre/lustre/64m -g -r write -t bw -d 1 2 4 -n 1 4 8 --disable-fio-version\n",
      "mv bandwidth-of-write-on-zfs-z2_two_8_single-64m* graph_z2_two_8_single/64m\n",
      "./fio-plot/fio_plot/fio_plot -T \"bandwidth of read on lustre z2_two_8_single 64m\" -i z2_two_8_single_zfs/tank/64m -g -r read -t bw -d 1 2 4 -n 1 4 8 --disable-fio-version\n",
      "mv bandwidth-of-read-on-lustre-z2_two_8_single-64m* graph_z2_two_8_single/64m\n",
      "./fio-plot/fio_plot/fio_plot -T \"bandwidth of write on lustre z2_two_8_single 64m\" -i z2_two_8_single_zfs/tank/64m -g -r write -t bw -d 1 2 4 -n 1 4 8 --disable-fio-version\n",
      "mv bandwidth-of-write-on-lustre-z2_two_8_single-64m* graph_z2_two_8_single/64m\n",
      "mkdir graph_z2_three_8_single\n",
      "mkdir graph_z2_three_8_single/32m\n",
      "./fio-plot/fio_plot/fio_plot -T \"bandwidth of read on zfs z2_three_8_single 32m\" -i z2_three_8_single_lustre/lustre/32m -g -r read -t bw -d 1 2 -n 1 4 --disable-fio-version\n",
      "mv bandwidth-of-read-on-zfs-z2_three_8_single-32m* graph_z2_three_8_single/32m\n",
      "./fio-plot/fio_plot/fio_plot -T \"bandwidth of write on zfs z2_three_8_single 32m\" -i z2_three_8_single_lustre/lustre/32m -g -r write -t bw -d 1 2 -n 1 4 --disable-fio-version\n",
      "mv bandwidth-of-write-on-zfs-z2_three_8_single-32m* graph_z2_three_8_single/32m\n",
      "./fio-plot/fio_plot/fio_plot -T \"bandwidth of read on lustre z2_three_8_single 32m\" -i z2_three_8_single_zfs/tank/32m -g -r read -t bw -d 1 2 -n 1 4 --disable-fio-version\n",
      "mv bandwidth-of-read-on-lustre-z2_three_8_single-32m* graph_z2_three_8_single/32m\n",
      "./fio-plot/fio_plot/fio_plot -T \"bandwidth of write on lustre z2_three_8_single 32m\" -i z2_three_8_single_zfs/tank/32m -g -r write -t bw -d 1 2 -n 1 4 --disable-fio-version\n",
      "mv bandwidth-of-write-on-lustre-z2_three_8_single-32m* graph_z2_three_8_single/32m\n",
      "mkdir graph_z2_three_8_single/64m\n",
      "./fio-plot/fio_plot/fio_plot -T \"bandwidth of read on zfs z2_three_8_single 64m\" -i z2_three_8_single_lustre/lustre/64m -g -r read -t bw -d 1 2 -n 1 4 --disable-fio-version\n",
      "mv bandwidth-of-read-on-zfs-z2_three_8_single-64m* graph_z2_three_8_single/64m\n",
      "./fio-plot/fio_plot/fio_plot -T \"bandwidth of write on zfs z2_three_8_single 64m\" -i z2_three_8_single_lustre/lustre/64m -g -r write -t bw -d 1 2 -n 1 4 --disable-fio-version\n",
      "mv bandwidth-of-write-on-zfs-z2_three_8_single-64m* graph_z2_three_8_single/64m\n",
      "./fio-plot/fio_plot/fio_plot -T \"bandwidth of read on lustre z2_three_8_single 64m\" -i z2_three_8_single_zfs/tank/64m -g -r read -t bw -d 1 2 -n 1 4 --disable-fio-version\n",
      "mv bandwidth-of-read-on-lustre-z2_three_8_single-64m* graph_z2_three_8_single/64m\n",
      "./fio-plot/fio_plot/fio_plot -T \"bandwidth of write on lustre z2_three_8_single 64m\" -i z2_three_8_single_zfs/tank/64m -g -r write -t bw -d 1 2 -n 1 4 --disable-fio-version\n",
      "mv bandwidth-of-write-on-lustre-z2_three_8_single-64m* graph_z2_three_8_single/64m\n",
      "mkdir graph_z3_one_15_single\n",
      "mkdir graph_z3_one_15_single/32m\n",
      "./fio-plot/fio_plot/fio_plot -T \"bandwidth of read on zfs z3_one_15_single 32m\" -i z3_one_15_single_lustre/lustre/32m -g -r read -t bw -d 1 2 -n 1 4 --disable-fio-version\n",
      "mv bandwidth-of-read-on-zfs-z3_one_15_single-32m* graph_z3_one_15_single/32m\n",
      "./fio-plot/fio_plot/fio_plot -T \"bandwidth of write on zfs z3_one_15_single 32m\" -i z3_one_15_single_lustre/lustre/32m -g -r write -t bw -d 1 2 -n 1 4 --disable-fio-version\n",
      "mv bandwidth-of-write-on-zfs-z3_one_15_single-32m* graph_z3_one_15_single/32m\n",
      "./fio-plot/fio_plot/fio_plot -T \"bandwidth of read on lustre z3_one_15_single 32m\" -i z3_one_15_single_zfs/tank/32m -g -r read -t bw -d 1 2 -n 1 4 --disable-fio-version\n",
      "mv bandwidth-of-read-on-lustre-z3_one_15_single-32m* graph_z3_one_15_single/32m\n",
      "./fio-plot/fio_plot/fio_plot -T \"bandwidth of write on lustre z3_one_15_single 32m\" -i z3_one_15_single_zfs/tank/32m -g -r write -t bw -d 1 2 -n 1 4 --disable-fio-version\n",
      "mv bandwidth-of-write-on-lustre-z3_one_15_single-32m* graph_z3_one_15_single/32m\n",
      "mkdir graph_z3_one_15_single/64m\n",
      "./fio-plot/fio_plot/fio_plot -T \"bandwidth of read on zfs z3_one_15_single 64m\" -i z3_one_15_single_lustre/lustre/64m -g -r read -t bw -d 1 2 -n 1 4 --disable-fio-version\n",
      "mv bandwidth-of-read-on-zfs-z3_one_15_single-64m* graph_z3_one_15_single/64m\n",
      "./fio-plot/fio_plot/fio_plot -T \"bandwidth of write on zfs z3_one_15_single 64m\" -i z3_one_15_single_lustre/lustre/64m -g -r write -t bw -d 1 2 -n 1 4 --disable-fio-version\n",
      "mv bandwidth-of-write-on-zfs-z3_one_15_single-64m* graph_z3_one_15_single/64m\n",
      "./fio-plot/fio_plot/fio_plot -T \"bandwidth of read on lustre z3_one_15_single 64m\" -i z3_one_15_single_zfs/tank/64m -g -r read -t bw -d 1 2 -n 1 4 --disable-fio-version\n",
      "mv bandwidth-of-read-on-lustre-z3_one_15_single-64m* graph_z3_one_15_single/64m\n",
      "./fio-plot/fio_plot/fio_plot -T \"bandwidth of write on lustre z3_one_15_single 64m\" -i z3_one_15_single_zfs/tank/64m -g -r write -t bw -d 1 2 -n 1 4 --disable-fio-version\n",
      "mv bandwidth-of-write-on-lustre-z3_one_15_single-64m* graph_z3_one_15_single/64m\n",
      "mkdir graph_z3_two_15_single\n",
      "mkdir graph_z3_two_15_single/32m\n",
      "./fio-plot/fio_plot/fio_plot -T \"bandwidth of read on zfs z3_two_15_single 32m\" -i z3_two_15_single_lustre/lustre/32m -g -r read -t bw -d 1 2 -n 1 4 --disable-fio-version\n",
      "mv bandwidth-of-read-on-zfs-z3_two_15_single-32m* graph_z3_two_15_single/32m\n",
      "./fio-plot/fio_plot/fio_plot -T \"bandwidth of write on zfs z3_two_15_single 32m\" -i z3_two_15_single_lustre/lustre/32m -g -r write -t bw -d 1 2 -n 1 4 --disable-fio-version\n",
      "mv bandwidth-of-write-on-zfs-z3_two_15_single-32m* graph_z3_two_15_single/32m\n",
      "./fio-plot/fio_plot/fio_plot -T \"bandwidth of read on lustre z3_two_15_single 32m\" -i z3_two_15_single_zfs/tank/32m -g -r read -t bw -d 1 2 -n 1 4 --disable-fio-version\n",
      "mv bandwidth-of-read-on-lustre-z3_two_15_single-32m* graph_z3_two_15_single/32m\n",
      "./fio-plot/fio_plot/fio_plot -T \"bandwidth of write on lustre z3_two_15_single 32m\" -i z3_two_15_single_zfs/tank/32m -g -r write -t bw -d 1 2 -n 1 4 --disable-fio-version\n",
      "mv bandwidth-of-write-on-lustre-z3_two_15_single-32m* graph_z3_two_15_single/32m\n",
      "mkdir graph_z3_two_15_single/64m\n",
      "./fio-plot/fio_plot/fio_plot -T \"bandwidth of read on zfs z3_two_15_single 64m\" -i z3_two_15_single_lustre/lustre/64m -g -r read -t bw -d 1 2 -n 1 4 --disable-fio-version\n",
      "mv bandwidth-of-read-on-zfs-z3_two_15_single-64m* graph_z3_two_15_single/64m\n",
      "./fio-plot/fio_plot/fio_plot -T \"bandwidth of write on zfs z3_two_15_single 64m\" -i z3_two_15_single_lustre/lustre/64m -g -r write -t bw -d 1 2 -n 1 4 --disable-fio-version\n",
      "mv bandwidth-of-write-on-zfs-z3_two_15_single-64m* graph_z3_two_15_single/64m\n",
      "./fio-plot/fio_plot/fio_plot -T \"bandwidth of read on lustre z3_two_15_single 64m\" -i z3_two_15_single_zfs/tank/64m -g -r read -t bw -d 1 2 -n 1 4 --disable-fio-version\n",
      "mv bandwidth-of-read-on-lustre-z3_two_15_single-64m* graph_z3_two_15_single/64m\n",
      "./fio-plot/fio_plot/fio_plot -T \"bandwidth of write on lustre z3_two_15_single 64m\" -i z3_two_15_single_zfs/tank/64m -g -r write -t bw -d 1 2 -n 1 4 --disable-fio-version\n",
      "mv bandwidth-of-write-on-lustre-z3_two_15_single-64m* graph_z3_two_15_single/64m\n"
     ]
    }
   ],
   "metadata": {}
  },
  {
   "cell_type": "code",
   "execution_count": null,
   "source": [],
   "outputs": [],
   "metadata": {}
  }
 ],
 "metadata": {
  "orig_nbformat": 4,
  "language_info": {
   "name": "python",
   "version": "3.9.2",
   "mimetype": "text/x-python",
   "codemirror_mode": {
    "name": "ipython",
    "version": 3
   },
   "pygments_lexer": "ipython3",
   "nbconvert_exporter": "python",
   "file_extension": ".py"
  },
  "kernelspec": {
   "name": "python3",
   "display_name": "Python 3.9.2 64-bit"
  },
  "interpreter": {
   "hash": "ac59ebe37160ed0dfa835113d9b8498d9f09ceb179beaac4002f036b9467c963"
  }
 },
 "nbformat": 4,
 "nbformat_minor": 2
}