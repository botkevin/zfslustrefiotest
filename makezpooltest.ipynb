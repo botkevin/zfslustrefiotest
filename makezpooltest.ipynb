{
 "cells": [
  {
   "cell_type": "code",
   "execution_count": 1,
   "metadata": {},
   "outputs": [],
   "source": [
    "import numpy as np\n",
    "import os\n",
    "import csv\n",
    "import runtests\n",
    "import makegraphs"
   ]
  },
  {
   "cell_type": "markdown",
   "metadata": {},
   "source": [
    "# runtests testing"
   ]
  },
  {
   "cell_type": "code",
   "execution_count": 2,
   "metadata": {},
   "outputs": [],
   "source": [
    "def return_one(startdisk, zfsname, csvfilename, ip, skip_num=0):\n",
    "    with open(csvfilename) as csvfile:\n",
    "        reader = csv.reader(csvfile, delimiter=\",\")\n",
    "        next(reader)\n",
    "        for _ in range(skip_num):\n",
    "            next(reader)\n",
    "        row = next(reader)\n",
    "        testname, numberdisks, raidmode, raid0, ashift, compression, recordsize, atime, filesize, benchmark, runtime, blocksizes, iodepths, numjobs = row\n",
    "        print (testname, numberdisks, raidmode, raid0, ashift, compression, recordsize, atime, filesize, benchmark, runtime, blocksizes, iodepths, numjobs)\n",
    "        print (\"++++++++++++++++++++++++++++\")\n",
    "        print (testname)\n",
    "        print (\"++++++++++++++++++++++++++++\")\n",
    "        numberdisks = int(numberdisks)\n",
    "        raidmode = int(raidmode)\n",
    "        raid0 = int(raid0)\n",
    "        return runtests.make_commands(startdisk, numberdisks, zfsname, raidmode, raid0, ashift, compression, recordsize, atime, testname, ip, filesize, benchmark, runtime, blocksizes, iodepths, numjobs)"
   ]
  },
  {
   "cell_type": "code",
   "execution_count": 34,
   "metadata": {},
   "outputs": [
    {
     "name": "stdout",
     "output_type": "stream",
     "text": [
      "onedisk 1 0 0 12  128k on 100g FALSE NA NA NA NA\n",
      "++++++++++++++++++++++++++++\n",
      "onedisk\n",
      "++++++++++++++++++++++++++++\n"
     ]
    }
   ],
   "source": [
    "cmds = return_one(\"c\", \"tank\", \"temptestconfig.csv\", \"192.168.169.207\", skip_num=0)"
   ]
  },
  {
   "cell_type": "markdown",
   "metadata": {},
   "source": [
    "fio --directory=/tank --direct=1 --bs=32m --ioengine=psync --iodepth=1 --numjobs=32 --filesize=100g --group_reporting --name=throughput-test --eta-newline=1 --rw=write >> test_zfs_write.txt\n",
    "fio --directory=/tank --direct=1 --bs=32m --ioengine=psync --iodepth=1 --numjobs=32 --filesize=100g --group_reporting --name=throughput-test --eta-newline=1 --rw=read --readonly >> test_zfs_read.txt"
   ]
  },
  {
   "cell_type": "code",
   "execution_count": null,
   "metadata": {},
   "outputs": [],
   "source": []
  },
  {
   "cell_type": "code",
   "execution_count": 35,
   "metadata": {},
   "outputs": [
    {
     "name": "stdout",
     "output_type": "stream",
     "text": [
      "mkdir onedisk\n",
      "echo -------------------------------\n",
      "echo make zfs\n",
      "echo -------------------------------\n",
      "zpool create tank -o ashift=12  sdc\n",
      "zfs set recordsize=128k atime=on tank\n",
      "echo -------------------------------\n",
      "echo test zfs\n",
      "echo -------------------------------\n",
      "fio --directory=/tank --direct=1 --bs=32m --ioengine=psync --iodepth=64 --filesize=100g --group_reporting --name=throughput-test --eta-newline=1 --rw=write >> onedisk/zfs_write.txt\n",
      "fio --filename=/tank/throughput-test.0.0 --direct=1 --bs=32m --ioengine=psync --iodepth=64 --filesize=100g --group_reporting --name=throughput-test --eta-newline=1--rw=read --readonly >> onedisk/zfs_read.txt\n",
      "rm /tank/throughput-test.0.0\n",
      "echo -------------------------------\n",
      "echo make lustre\n",
      "echo -------------------------------\n",
      "mkfs.lustre --backfstype=zfs --fsname=test --index=0 --reformat --mgs --mdt mgsmdt/mgsmdt\n",
      "mkfs.lustre --backfstype=zfs --fsname=test --index=0 --ost --mgsnode=192.168.169.207@tcp tank/ost0\n",
      "mount -t lustre mgsmdt/mgsmdt /mnt/mgsmdt\n",
      "mount -t lustre tank/ost0 /mnt/ost\n",
      "mount -t lustre 192.168.169.207@tcp:/test /mnt/lustre\n",
      "echo -------------------------------\n",
      "echo test lustre\n",
      "echo -------------------------------\n",
      "fio --directory=/mnt/lustre --direct=1 --bs=32m --ioengine=psync --iodepth=64 --filesize=100g --group_reporting --name=throughput-test --eta-newline=1 --rw=write >> onedisk/lustre_write.txt\n",
      "fio --filename=/mnt/lustre/throughput-test.0.0 --direct=1 --bs=32m --ioengine=psync --iodepth=64 --filesize=100g --group_reporting --name=throughput-test --eta-newline=1--rw=read --readonly >> onedisk/lustre_read.txt\n",
      "rm /mnt/lustre/throughput-test.0.0\n",
      "echo -------------------------------\n",
      "echo cleanup\n",
      "echo -------------------------------\n",
      "umount -f 192.168.169.207@tcp:/test\n",
      "umount mgsmdt/mgsmdt\n",
      "umount tank/ost0\n",
      "tunefs.lustre --writeconf mgsmdt/mgsmdt\n",
      "tunefs.lustre --writeconf tank/ost0\n",
      "zpool destroy -f tank\n"
     ]
    }
   ],
   "source": [
    "for cmd in cmds:\n",
    "    print(cmd)"
   ]
  },
  {
   "cell_type": "markdown",
   "metadata": {},
   "source": [
    "fio --directory=/tank --direct=1 --rw=write --bs=32m --ioengine=libaio --iodepth=64 --filesize=30g --numjobs=2 --group_reporting --name=throughput-test --eta-newline=1\n",
    "\n",
    "./bench_fio --target /tank --type directory -o onedisk_fioplot -b 16m 32m 64m -m write --loops 1 --iodepth 1 2 --numjobs 1 2 --ss iops:10% --ss-ramp 10 --ss-dur 30 --runtime 300 --size 20g\n",
    "\n",
    "./fio_plot/fio_plot -T \"title\" -r write -g -t bw -d 1 2 -n 1 2 -i benchmark_script/onedisk_fioplot/tank/32m/"
   ]
  },
  {
   "cell_type": "markdown",
   "metadata": {},
   "source": [
    "./fio-plot/fio_plot/fio_plot -T \"bandwidth of write on lustre raidz2(8 drives) given iodepth and numjobs 32m\" -i z2_one_8_single_lustre/lustre/16m -g -r write -t bw -d 1 2 4 -n 1 4 8\n",
    "./fio-plot/fio_plot/fio_plot -T \"bandwidth of write on zfs 60 (2x8 drives) given iodepth and numjobs 64m\" -i z2_one_8_single_zfs/tank/64m -g -r write -t bw -d 1 2 4 -n 1 4 8\n",
    "./fio-plot/fio_plot/fio_plot -T \"bandwidth of read on zfs raidz2(8 drives) given iodepth and numjobs m\" -i z2_one_8_single_zfs/tank/16m -g -r read -t bw -d 1 2 4 -n 1 4 8\n"
   ]
  },
  {
   "cell_type": "markdown",
   "metadata": {},
   "source": [
    "# makegraphs testing"
   ]
  },
  {
   "cell_type": "code",
   "execution_count": 28,
   "metadata": {},
   "outputs": [],
   "source": [
    "# skip_num = 11\n",
    "# # TODO: stop to param\n",
    "# # set stop to 0 if you don't need it\n",
    "# stop = 0\n",
    "# cmds = makegraphs.make_commands(\"config.csv\", skip_num)"
   ]
  },
  {
   "cell_type": "code",
   "execution_count": 27,
   "metadata": {},
   "outputs": [],
   "source": [
    "def make_commands_graph_one(csvfilename, skip_num):\n",
    "    cmds = []\n",
    "    with open(csvfilename) as csvfile:\n",
    "        reader = csv.reader(csvfile, delimiter=\",\")\n",
    "        next(reader)\n",
    "        for _ in range(skip_num):\n",
    "            next(reader)\n",
    "        stop_counter = 0\n",
    "        row = next(reader)\n",
    "        testname, numberdisks, raidmode, raid0, ashift, compression, recordsize, atime, filesize, benchmark, runtime, blocksizes, iodepths, numjobs = row\n",
    "        rws = [\"read\", \"write\"]\n",
    "        fss = [\"zfs\", \"lustre\"]\n",
    "        blocksizes = blocksizes.split()\n",
    "        # print (blocksizes)\n",
    "        graphdir = \"graph_\" + testname\n",
    "        cmds.append (\"mkdir \" + graphdir)\n",
    "        for bs in blocksizes:\n",
    "            blockdir = graphdir +\"/\"+bs\n",
    "            cmds.append (\"mkdir \"+ blockdir)\n",
    "            for fs in fss:\n",
    "                for rw in rws:\n",
    "                    plot_cmd, title = makegraphs.make_plot_cmd (rw, fs, bs, iodepths, numjobs, testname, recordsize)\n",
    "                    title = title.replace(\" \", \"-\")\n",
    "                    cmds.append (plot_cmd)\n",
    "                    cmds.append (\"mv \" + title + '* ' + blockdir)\n",
    "    return cmds"
   ]
  },
  {
   "cell_type": "code",
   "execution_count": 33,
   "metadata": {},
   "outputs": [
    {
     "name": "stdout",
     "output_type": "stream",
     "text": [
      "mkdir graph_z2_three_8_single_1m\n",
      "mkdir graph_z2_three_8_single_1m/32m\n",
      "./fio-plot/fio_plot/fio_plot -T \"bandwidth of read on zfs z2_three_8_single_1m 32m1m\" -i z2_three_8_single_1m/lustre/32m -g -r read -t bw -d 1 2 4 8 16 32 -n 1 2 4 8 16 32 --disable-fio-version\n",
      "mv bandwidth-of-read-on-zfs-z2_three_8_single_1m-32m1m* graph_z2_three_8_single_1m/32m\n",
      "./fio-plot/fio_plot/fio_plot -T \"bandwidth of write on zfs z2_three_8_single_1m 32m1m\" -i z2_three_8_single_1m/lustre/32m -g -r write -t bw -d 1 2 4 8 16 32 -n 1 2 4 8 16 32 --disable-fio-version\n",
      "mv bandwidth-of-write-on-zfs-z2_three_8_single_1m-32m1m* graph_z2_three_8_single_1m/32m\n",
      "./fio-plot/fio_plot/fio_plot -T \"bandwidth of read on lustre z2_three_8_single_1m 32m1m\" -i z2_three_8_single_1m/tank/32m -g -r read -t bw -d 1 2 4 8 16 32 -n 1 2 4 8 16 32 --disable-fio-version\n",
      "mv bandwidth-of-read-on-lustre-z2_three_8_single_1m-32m1m* graph_z2_three_8_single_1m/32m\n",
      "./fio-plot/fio_plot/fio_plot -T \"bandwidth of write on lustre z2_three_8_single_1m 32m1m\" -i z2_three_8_single_1m/tank/32m -g -r write -t bw -d 1 2 4 8 16 32 -n 1 2 4 8 16 32 --disable-fio-version\n",
      "mv bandwidth-of-write-on-lustre-z2_three_8_single_1m-32m1m* graph_z2_three_8_single_1m/32m\n",
      "mkdir graph_z2_three_8_single_1m/64m\n",
      "./fio-plot/fio_plot/fio_plot -T \"bandwidth of read on zfs z2_three_8_single_1m 64m1m\" -i z2_three_8_single_1m/lustre/64m -g -r read -t bw -d 1 2 4 8 16 32 -n 1 2 4 8 16 32 --disable-fio-version\n",
      "mv bandwidth-of-read-on-zfs-z2_three_8_single_1m-64m1m* graph_z2_three_8_single_1m/64m\n",
      "./fio-plot/fio_plot/fio_plot -T \"bandwidth of write on zfs z2_three_8_single_1m 64m1m\" -i z2_three_8_single_1m/lustre/64m -g -r write -t bw -d 1 2 4 8 16 32 -n 1 2 4 8 16 32 --disable-fio-version\n",
      "mv bandwidth-of-write-on-zfs-z2_three_8_single_1m-64m1m* graph_z2_three_8_single_1m/64m\n",
      "./fio-plot/fio_plot/fio_plot -T \"bandwidth of read on lustre z2_three_8_single_1m 64m1m\" -i z2_three_8_single_1m/tank/64m -g -r read -t bw -d 1 2 4 8 16 32 -n 1 2 4 8 16 32 --disable-fio-version\n",
      "mv bandwidth-of-read-on-lustre-z2_three_8_single_1m-64m1m* graph_z2_three_8_single_1m/64m\n",
      "./fio-plot/fio_plot/fio_plot -T \"bandwidth of write on lustre z2_three_8_single_1m 64m1m\" -i z2_three_8_single_1m/tank/64m -g -r write -t bw -d 1 2 4 8 16 32 -n 1 2 4 8 16 32 --disable-fio-version\n",
      "mv bandwidth-of-write-on-lustre-z2_three_8_single_1m-64m1m* graph_z2_three_8_single_1m/64m\n"
     ]
    }
   ],
   "source": [
    "cmds = make_commands_graph_one (\"config.csv\", skip_num=19)\n",
    "for cmd in cmds:\n",
    "    print (cmd)"
   ]
  },
  {
   "cell_type": "code",
   "execution_count": null,
   "metadata": {},
   "outputs": [],
   "source": []
  }
 ],
 "metadata": {
  "interpreter": {
   "hash": "ac59ebe37160ed0dfa835113d9b8498d9f09ceb179beaac4002f036b9467c963"
  },
  "kernelspec": {
   "display_name": "Python 3.9.2 64-bit",
   "name": "python3"
  },
  "language_info": {
   "codemirror_mode": {
    "name": "ipython",
    "version": 3
   },
   "file_extension": ".py",
   "mimetype": "text/x-python",
   "name": "python",
   "nbconvert_exporter": "python",
   "pygments_lexer": "ipython3",
   "version": "3.9.2"
  },
  "orig_nbformat": 4
 },
 "nbformat": 4,
 "nbformat_minor": 2
}
