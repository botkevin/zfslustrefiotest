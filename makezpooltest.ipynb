{
 "cells": [
  {
   "cell_type": "code",
   "execution_count": null,
   "metadata": {},
   "outputs": [],
   "source": [
    "import numpy as np\n",
    "import os\n",
    "import csv\n",
    "import runtests\n",
    "import makegraphs\n",
    "import makegraphs_new\n",
    "import pandas\n",
    "from matplotlib import pyplot as plt"
   ]
  },
  {
   "cell_type": "markdown",
   "metadata": {},
   "source": [
    "# runtests testing"
   ]
  },
  {
   "cell_type": "code",
   "execution_count": null,
   "metadata": {},
   "outputs": [],
   "source": [
    "def return_one(startdisk, zfsname, csvfilename, ip, skip_num=0):\n",
    "    with open(csvfilename) as csvfile:\n",
    "        reader = csv.reader(csvfile, delimiter=\",\")\n",
    "        next(reader)\n",
    "        for _ in range(skip_num):\n",
    "            next(reader)\n",
    "        row = next(reader)\n",
    "        testname, numberdisks, raidmode, raid0, ashift, compression, recordsize, atime, filesize, benchmark, runtime, blocksizes, iodepths, numjobs = row\n",
    "        print (testname, numberdisks, raidmode, raid0, ashift, compression, recordsize, atime, filesize, benchmark, runtime, blocksizes, iodepths, numjobs)\n",
    "        print (\"++++++++++++++++++++++++++++\")\n",
    "        print (testname)\n",
    "        print (\"++++++++++++++++++++++++++++\")\n",
    "        numberdisks = int(numberdisks)\n",
    "        raidmode = int(raidmode)\n",
    "        raid0 = int(raid0)\n",
    "        return runtests.make_commands(startdisk, numberdisks, zfsname, raidmode, raid0, ashift, compression, recordsize, atime, testname, ip, filesize, benchmark, runtime, blocksizes, iodepths, numjobs)"
   ]
  },
  {
   "cell_type": "code",
   "execution_count": null,
   "metadata": {},
   "outputs": [],
   "source": [
    "cmds = return_one(\"c\", \"tank\", \"config.csv\", \"192.168.169.207\", skip_num=0)"
   ]
  },
  {
   "cell_type": "code",
   "execution_count": null,
   "metadata": {},
   "outputs": [],
   "source": [
    "for cmd in cmds:\n",
    "    print(cmd)"
   ]
  },
  {
   "cell_type": "markdown",
   "metadata": {},
   "source": [
    "fio --direct=1 --group_reporting --time_based --buffer_compress_percentage=0 --refill_buffers --bs=64m --ioengine=psync --iodepth=1 --numjobs=1 --runtime=50 --directory=/tank --filesize=10g --name=throughput-test --rw=write"
   ]
  },
  {
   "cell_type": "markdown",
   "metadata": {},
   "source": [
    "# makegraphs testing"
   ]
  },
  {
   "cell_type": "code",
   "execution_count": null,
   "metadata": {},
   "outputs": [],
   "source": [
    "# skip_num = 11\n",
    "# # TODO: stop to param\n",
    "# # set stop to 0 if you don't need it\n",
    "# stop = 0\n",
    "# cmds = makegraphs.make_commands(\"config.csv\", skip_num)"
   ]
  },
  {
   "cell_type": "code",
   "execution_count": null,
   "metadata": {},
   "outputs": [],
   "source": [
    "%matplotlib inline\n",
    "plt.rcParams[\"figure.figsize\"] = (15,8)"
   ]
  }
 ],
 "metadata": {
  "interpreter": {
   "hash": "ac59ebe37160ed0dfa835113d9b8498d9f09ceb179beaac4002f036b9467c963"
  },
  "kernelspec": {
   "display_name": "Python 3.9.2 64-bit",
   "name": "python3"
  },
  "language_info": {
   "codemirror_mode": {
    "name": "ipython",
    "version": 3
   },
   "file_extension": ".py",
   "mimetype": "text/x-python",
   "name": "python",
   "nbconvert_exporter": "python",
   "pygments_lexer": "ipython3",
   "version": "3.9.2"
  },
  "orig_nbformat": 4
 },
 "nbformat": 4,
 "nbformat_minor": 2
}
