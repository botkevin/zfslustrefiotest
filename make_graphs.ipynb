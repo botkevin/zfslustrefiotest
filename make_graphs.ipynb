{
 "cells": [
  {
   "cell_type": "code",
   "execution_count": null,
   "metadata": {},
   "outputs": [],
   "source": [
    "import numpy as np\n",
    "import os\n",
    "import csv\n",
    "import runtests\n",
    "import makegraphs\n",
    "import makegraphs_new\n",
    "import pandas\n",
    "from matplotlib import pyplot as plt\n",
    "import pickle\n",
    "import scipy.stats as scistats"
   ]
  },
  {
   "cell_type": "code",
   "execution_count": null,
   "metadata": {},
   "outputs": [],
   "source": [
    "# plt.rcParams[\"figure.figsize\"] = (15,8)"
   ]
  },
  {
   "cell_type": "code",
   "execution_count": null,
   "metadata": {},
   "outputs": [],
   "source": [
    "results_dict_10_31 = pickle.load (open( \"10-31-tests-results-dict.p\", \"rb\"))\n",
    "str(results_dict_10_31)[:100]"
   ]
  },
  {
   "cell_type": "code",
   "execution_count": null,
   "metadata": {},
   "outputs": [],
   "source": [
    "test_dir = \"tests-11-8\""
   ]
  },
  {
   "cell_type": "code",
   "execution_count": null,
   "metadata": {},
   "outputs": [],
   "source": [
    "plt.close()\n",
    "figs, _, _, write_results_dict = makegraphs_new.gen_plots(\"config.csv\", 0, stop=0, save=False, gen_plt=False, test_dir=test_dir,start=0, rw_choose=['write'])"
   ]
  },
  {
   "cell_type": "code",
   "execution_count": null,
   "metadata": {},
   "outputs": [],
   "source": [
    "figs_all, write_avgs, write_mats = makegraphs_new.gen_plots_from_dict(write_results_dict, \"config.csv\", 0, stop=0, save=False, gen_plt=True, test_dir=\"tests\", start=10, rw_choose=['write']) "
   ]
  },
  {
   "cell_type": "code",
   "execution_count": null,
   "metadata": {},
   "outputs": [],
   "source": [
    "makegraphs_new.print_info_arr(write_avgs)"
   ]
  },
  {
   "cell_type": "code",
   "execution_count": null,
   "metadata": {},
   "outputs": [],
   "source": [
    "list(write_mats.keys())"
   ]
  },
  {
   "cell_type": "code",
   "execution_count": null,
   "metadata": {},
   "outputs": [],
   "source": [
    "z2_4 = write_results_dict['z2_four_8_1m']['zfs']['write']['1']['1']['64m']\n",
    "\n",
    "# logdata = logdata[min(p[0]) : max(p[0]) + 1, min(p[1]) : max(p[1]) + 1]"
   ]
  },
  {
   "cell_type": "code",
   "execution_count": null,
   "metadata": {},
   "outputs": [],
   "source": [
    "print (str(write_mats)[:30])"
   ]
  },
  {
   "cell_type": "code",
   "execution_count": null,
   "metadata": {},
   "outputs": [],
   "source": [
    "def plot_max(testnames, mats, xlabel_func, title):\n",
    "    fig, ax = plt.subplots()\n",
    "    ax.set_title(title)\n",
    "    ax.set_xlabel(\"number disks\")\n",
    "    ax.set_ylabel(\"mb/s\")\n",
    "\n",
    "    plot_max_helper(testnames, mats, xlabel_func, title, fig, ax)\n",
    "\n",
    "def plot_max_helper(testnames, mats, xlabel_func, title, fig, ax):\n",
    "    x=[]\n",
    "    y=[]\n",
    "    for i,t in enumerate(testnames):\n",
    "        x.append(xlabel_func(i))\n",
    "        y.append(np.amax(mats[t]['zfs']['write'][0]))\n",
    "    ax.plot (np.array(x).astype(int),y)"
   ]
  },
  {
   "cell_type": "code",
   "execution_count": null,
   "metadata": {},
   "outputs": [],
   "source": [
    "stripe_testnames = [\n",
    " 'onedisk_1m',\n",
    " 'twodisk_1m',\n",
    " 'fourdisk_1m',\n",
    " 'eightdisk_1m',\n",
    " 'sixteendisk_1m']\n",
    "plot_max(stripe_testnames, write_mats, lambda x: 2**x, \"Raid 0\", )"
   ]
  },
  {
   "cell_type": "code",
   "execution_count": null,
   "metadata": {},
   "outputs": [],
   "source": [
    "z2_testnames = ['z2_one_8_1m','z2_two_8_1m','z2_three_8_1m','z2_four_8_1m', 'z2_five_8_1m']\n",
    "plot_max(z2_testnames, write_mats, lambda x: 8*(x+1), \"Raidz2 + 0\")"
   ]
  },
  {
   "cell_type": "code",
   "execution_count": null,
   "metadata": {},
   "outputs": [],
   "source": [
    "z3_testnames = ['z3_one_15_1m','z3_two_15_1m','z3_three_15_1m']\n",
    "plot_max(z3_testnames, write_mats, lambda x: 15*(x+1), \"Raidz3 + 0\")"
   ]
  },
  {
   "cell_type": "code",
   "execution_count": null,
   "metadata": {},
   "outputs": [],
   "source": [
    "testname = 'onedisk_1m'\n",
    "np.amax(write_mats[testname]['zfs']['write'][0])"
   ]
  },
  {
   "cell_type": "code",
   "execution_count": null,
   "metadata": {},
   "outputs": [],
   "source": [
    "# nj, io, bs\n",
    "plt.rcParams[\"figure.figsize\"] = (13,8)\n",
    "testname = 'onedisk_1m'\n",
    "info_arr, lin_arr = makegraphs_new.comp_test_mat(write_mats[testname]['zfs']['write'], testname, 'bs')\n",
    "# for line in info_arr:\n",
    "#     print (line)"
   ]
  },
  {
   "cell_type": "code",
   "execution_count": null,
   "metadata": {},
   "outputs": [],
   "source": [
    "# nj, io, bs\n",
    "testname = 'z2_one_8_1m'\n",
    "print (write_mats[testname]['zfs']['write'])"
   ]
  },
  {
   "cell_type": "code",
   "execution_count": null,
   "metadata": {},
   "outputs": [],
   "source": [
    "# onedisk_zfs_write = results_dict_10_31['onedisk_128k']['zfs']['write']\n",
    "# np.mean(onedisk_zfs_write['1']['1']['64m'],axis=0).shape"
   ]
  },
  {
   "cell_type": "markdown",
   "metadata": {},
   "source": [
    "# READ RESULTS"
   ]
  },
  {
   "cell_type": "code",
   "execution_count": null,
   "metadata": {},
   "outputs": [],
   "source": [
    "figs, _, _, read_results_dict = makegraphs_new.gen_plots(\"config.csv\", 0, stop=0, save=False, gen_plt=False, test_dir=test_dir,start=0, rw_choose=['read'])"
   ]
  },
  {
   "cell_type": "code",
   "execution_count": null,
   "metadata": {},
   "outputs": [],
   "source": [
    "figs_all, read_avgs, read_mats = makegraphs_new.gen_plots_from_dict(read_results_dict, \"config.csv\", 0, stop=0, save=False, gen_plt=True, test_dir=test_dir, start=10, rw_choose=['read']) "
   ]
  },
  {
   "cell_type": "code",
   "execution_count": null,
   "metadata": {},
   "outputs": [],
   "source": [
    "makegraphs_new.print_info_arr(read_avgs)"
   ]
  },
  {
   "cell_type": "code",
   "execution_count": null,
   "metadata": {},
   "outputs": [],
   "source": [
    "# pickle.dump (results_dict, open( \"10-31-tests-results-dict.p\", \"wb\"))"
   ]
  },
  {
   "cell_type": "code",
   "execution_count": null,
   "metadata": {},
   "outputs": [],
   "source": []
  }
 ],
 "metadata": {
  "interpreter": {
   "hash": "ac59ebe37160ed0dfa835113d9b8498d9f09ceb179beaac4002f036b9467c963"
  },
  "kernelspec": {
   "display_name": "Python 3.9.2 64-bit",
   "name": "python3"
  },
  "language_info": {
   "codemirror_mode": {
    "name": "ipython",
    "version": 3
   },
   "file_extension": ".py",
   "mimetype": "text/x-python",
   "name": "python",
   "nbconvert_exporter": "python",
   "pygments_lexer": "ipython3",
   "version": "3.9.2"
  },
  "orig_nbformat": 4
 },
 "nbformat": 4,
 "nbformat_minor": 2
}
